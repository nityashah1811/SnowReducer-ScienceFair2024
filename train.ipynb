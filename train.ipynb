{
  "nbformat": 4,
  "nbformat_minor": 0,
  "metadata": {
    "colab": {
      "provenance": []
    },
    "kernelspec": {
      "name": "python3",
      "display_name": "Python 3"
    },
    "language_info": {
      "name": "python"
    },
    "accelerator": "GPU",
    "gpuClass": "standard"
  },
  "cells": [
    {
      "cell_type": "code",
      "execution_count": null,
      "metadata": {
        "id": "CMPpVTDr8y_P"
      },
      "outputs": [],
      "source": [
        "from google.colab import drive\n # use GoogleColab to get a free gpu",
        "\n",
        "drive.mount('/content/gdrive')"
      ]
    },
    {
      "cell_type": "code",
      "source": [
        "DATA_DIR = '/content/gdrive/My Drive/SnowSegmentation/data'"
      ],
      "metadata": {
        "id": "tNLZ8w6G86Ye"
      },
      "execution_count": null,
      "outputs": []
    },
    {
      "cell_type": "code",
      "source": [
        "!pip install ultralytics"
      ],
      "metadata": {
        "id": "3UdWqYtu9KB_"
      },
      "execution_count": null,
      "outputs": []
    },
    {
      "cell_type": "code",
      "source": [
        "import os\n",
        "\n",
        "from ultralytics import YOLO\n",
        "\n",
        "\n",
        "model = YOLO('yolov8n-seg.pt')  # load a pretrained model (recommended for training)\n",
        "\n",
        "model.train(data='/content/gdrive/My Drive/SnowSegmentation/config.yaml', epochs=10, imgsz=640)\n"
      ],
      "metadata": {
        "id": "zy7BcAyj9LvW"
      },
      "execution_count": null,
      "outputs": []
    },
    {
      "cell_type": "code",
      "source": [
        "!scp -r /content/runs '/content/gdrive/My Drive/SnowSegmentation'"
      ],
      "metadata": {
        "id": "dZt7FiKD9NVR"
      },
      "execution_count": null,
      "outputs": []
    }
  ]
}
